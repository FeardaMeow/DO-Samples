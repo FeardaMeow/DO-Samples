{
 "cells": [
  {
   "cell_type": "markdown",
   "metadata": {},
   "source": [
    "To use this Notebook you have to import the StaffPlanning example (New Decision Optimization Model/From File)\n"
   ]
  },
  {
   "cell_type": "markdown",
   "metadata": {},
   "source": [
    "### Client\n",
    "\n",
    "Create a DODS client to connect to initial scenario."
   ]
  },
  {
   "cell_type": "code",
   "execution_count": 1,
   "metadata": {},
   "outputs": [],
   "source": [
    "from dd_scenario import *\n",
    "\n",
    "client = Client()\n",
    "decision = client.get_model_builder(name=\"StaffPlanning\")\n",
    "scenario = decision.get_scenario(name=\"Scenario 1\")\n"
   ]
  },
  {
   "cell_type": "markdown",
   "metadata": {},
   "source": [
    "### Global parameters\n",
    "\n",
    "The number of days and number of periods per day:"
   ]
  },
  {
   "cell_type": "code",
   "execution_count": 2,
   "metadata": {},
   "outputs": [],
   "source": [
    "N_DAYS = 2\n",
    "N_PERIODS_PER_DAY = 24*4\n",
    "N_PERIODS = N_DAYS * N_PERIODS_PER_DAY"
   ]
  },
  {
   "cell_type": "markdown",
   "metadata": {},
   "source": [
    "### Random generator\n",
    "\n",
    "A method to generate the random demand for the given number of days and periods. "
   ]
  },
  {
   "cell_type": "code",
   "execution_count": 3,
   "metadata": {},
   "outputs": [],
   "source": [
    "import random\n",
    "import numpy as np\n",
    "import pandas as pd\n",
    "\n",
    "def random_demand( b_size ):\n",
    "    rs = []\n",
    "    for d in range(N_DAYS):\n",
    "        # Morning\n",
    "        p1 = random.uniform(0.2, 0.4)\n",
    "        s1 = int(random.uniform(b_size*0.5, b_size*1.5))\n",
    "        rs.append(np.random.binomial(n=N_PERIODS_PER_DAY, p=p1, size=s1) + d*N_PERIODS_PER_DAY)\n",
    "        # Afternoon\n",
    "        p2 = random.uniform(0.6, 0.8)\n",
    "        s2 = int(random.uniform(b_size*0.5, b_size*1.5))\n",
    "        rs.append(np.random.binomial(n=N_PERIODS_PER_DAY, p=p2, size=s2) + d*N_PERIODS_PER_DAY)\n",
    "        # Rest of day\n",
    "        s3 = int(random.uniform(b_size*0.4, b_size*0.7))\n",
    "        e = np.array([ random.randint(int(d*N_PERIODS_PER_DAY + 0.2*N_PERIODS_PER_DAY), int(d*N_PERIODS_PER_DAY + 0.8*N_PERIODS_PER_DAY)) for i in range(s3) ])\n",
    "        #print(e)\n",
    "        rs.append(e)\n",
    "    #print(rs)\n",
    "    s = np.concatenate(rs)\n",
    "    #print(s)\n",
    "    g_arrivals = pd.DataFrame(data=s, columns=['value'])\n",
    "    _demands = [0 for i in range(0, N_PERIODS+1)]\n",
    "    for t in s:\n",
    "        _demands[t] = _demands[t] +1\n",
    "    demands = pd.DataFrame(data= [(t, _demands[t]) for t in range(N_PERIODS)], columns = ['period', 'demand'])\n",
    "    return demands\n"
   ]
  },
  {
   "cell_type": "markdown",
   "metadata": {},
   "source": [
    "The number of scenarios you want to generate and solve:"
   ]
  },
  {
   "cell_type": "code",
   "execution_count": 4,
   "metadata": {},
   "outputs": [],
   "source": [
    "N_SCENARIOS = 5"
   ]
  },
  {
   "cell_type": "markdown",
   "metadata": {},
   "source": [
    "\n",
    "When copying the scenario, copy the input data, the model and the solution if any.\n",
    "\n",
    "Then attach new randomly generated data and solve.\n",
    "\n",
    "Grab the solution to perform some multi scenario reporting in this notebook."
   ]
  },
  {
   "cell_type": "code",
   "execution_count": 5,
   "metadata": {
    "scrolled": true
   },
   "outputs": [
    {
     "name": "stdout",
     "output_type": "stream",
     "text": [
      "Copy 01\n",
      " Deleting old...\n",
      " Copying from original scenario...\n",
      " Generating new demand...\n",
      " Solving...\n",
      "[2019-10-17T14:25:55Z, INFO] Reduced MIP has 0 binaries, 304 generals, 0 SOSs, and 0 indicators.\n",
      "[2019-10-17T14:25:55Z, INFO] Presolve time = 0.00 sec. (1.52 ticks)\n",
      "[2019-10-17T14:25:55Z, INFO] MIP emphasis: balance optimality and feasibility.\n",
      "[2019-10-17T14:25:55Z, INFO] MIP search method: dynamic search.\n",
      "[2019-10-17T14:25:55Z, INFO] Parallel mode: none, using 1 thread.\n",
      "[2019-10-17T14:25:55Z, INFO] Root relaxation solution time = 0.00 sec. (0.89 ticks)\n",
      "[2019-10-17T14:25:55Z, INFO] \n",
      "[2019-10-17T14:25:55Z, INFO]         Nodes                                         Cuts/\n",
      "[2019-10-17T14:25:55Z, INFO]    Node  Left     Objective  IInf  Best Integer    Best Bound    ItCnt     Gap\n",
      "[2019-10-17T14:25:55Z, INFO] *     0+    0                         6460.0000     1000.0000            84.52%\n",
      "[2019-10-17T14:25:55Z, INFO] *     0     0      integral     0     5740.0000     5740.0000       79    0.00%\n",
      "[2019-10-17T14:25:55Z, INFO] Elapsed time = 0.05 sec. (11.72 ticks, tree = 0.00 MB\n",
      "[2019-10-17T14:25:55Z, INFO] , solutions = 2\n",
      "[2019-10-17T14:25:55Z, INFO] )\n",
      "[2019-10-17T14:25:55Z, INFO] \n",
      "[2019-10-17T14:25:55Z, INFO] Root node processing (before b&c):\n",
      "[2019-10-17T14:25:55Z, INFO]   Real time             =    0.05 sec. (11.74 ticks)\n",
      "[2019-10-17T14:25:55Z, INFO] Sequential b&c:\n",
      "[2019-10-17T14:25:55Z, INFO]   Real time             =    0.00 sec. (0.00 ticks)\n",
      "[2019-10-17T14:25:55Z, INFO]                           ------------\n",
      "[2019-10-17T14:25:55Z, INFO] Total (root+branch&cut) =    0.05 sec. (11.74 ticks)\n",
      "[2019-10-17T14:25:55Z, INFO]   Feasible 5740\n",
      "[2019-10-17T14:25:55Z, INFO] starts.csv\n",
      "[2019-10-17T14:25:55Z, INFO] works.csv\n",
      "[2019-10-17T14:25:55Z, INFO] nr.csv\n",
      " Grabbing solution kpis...\n",
      "Copy 02\n",
      " Deleting old...\n",
      " Copying from original scenario...\n",
      " Generating new demand...\n",
      " Solving...\n",
      " Grabbing solution kpis...\n",
      "Copy 03\n",
      " Deleting old...\n",
      " Copying from original scenario...\n",
      " Generating new demand...\n",
      " Solving...\n",
      " Grabbing solution kpis...\n",
      "Copy 04\n",
      " Deleting old...\n",
      " Copying from original scenario...\n",
      " Generating new demand...\n",
      " Solving...\n",
      " Grabbing solution kpis...\n",
      "Copy 05\n",
      " Deleting old...\n",
      " Copying from original scenario...\n",
      " Generating new demand...\n",
      " Solving...\n",
      " Grabbing solution kpis...\n",
      "Done!\n"
     ]
    }
   ],
   "source": [
    "all_kpis = pd.DataFrame()\n",
    "\n",
    "for i in range(1, N_SCENARIOS+1):\n",
    "    sc_name = \"Copy %02d\" % (i)\n",
    "    print(sc_name)\n",
    "    copy = decision.get_scenario(name=sc_name)\n",
    "    if (copy != None):\n",
    "        print(\" Deleting old...\")\n",
    "        decision.delete_container(copy)\n",
    "    print(\" Copying from original scenario...\")    \n",
    "    copy = scenario.copy(sc_name)\n",
    "    print(\" Generating new demand...\")\n",
    "    df_demands = random_demand(200)\n",
    "    copy.add_table_data(\"demands\", df_demands, category='input')\n",
    "    print(\" Solving...\")\n",
    "    copy.solve()\n",
    "    print(\" Grabbing solution kpis...\")\n",
    "    kpis = copy.get_table_data('kpis')\n",
    "    kpis['scenario'] = sc_name\n",
    "    mk = [[ kpis.iloc[0]['Value'],  \"%02d\" % (kpis.iloc[1]['Value']), sc_name, \"%02d\" % (kpis.iloc[2]['Value'])]]\n",
    "    my_kpis = pd.DataFrame(data=mk, columns=['cost','fix','scenario','temp'])\n",
    "    copy.add_table_data('my_kpis', data=my_kpis, category='output')\n",
    "    all_kpis = all_kpis.append(kpis)\n",
    "    \n",
    "print(\"Done!\")"
   ]
  },
  {
   "cell_type": "code",
   "execution_count": null,
   "metadata": {
    "collapsed": true
   },
   "outputs": [],
   "source": []
  }
 ],
 "metadata": {
  "kernelspec": {
   "display_name": "Python 3.6",
   "language": "python",
   "name": "python3"
  },
  "language_info": {
   "codemirror_mode": {
    "name": "ipython",
    "version": 3
   },
   "file_extension": ".py",
   "mimetype": "text/x-python",
   "name": "python",
   "nbconvert_exporter": "python",
   "pygments_lexer": "ipython3",
   "version": "3.6.8"
  }
 },
 "nbformat": 4,
 "nbformat_minor": 1
}
